{
  "nbformat": 4,
  "nbformat_minor": 0,
  "metadata": {
    "colab": {
      "provenance": [],
      "gpuType": "T4"
    },
    "kernelspec": {
      "name": "python3",
      "display_name": "Python 3"
    },
    "language_info": {
      "name": "python"
    },
    "accelerator": "GPU"
  },
  "cells": [
    {
      "cell_type": "code",
      "execution_count": 1,
      "metadata": {
        "colab": {
          "base_uri": "https://localhost:8080/"
        },
        "id": "tm2-H98P5Nsp",
        "outputId": "6176e26c-577d-41bd-a29b-62856c679284"
      },
      "outputs": [
        {
          "output_type": "stream",
          "name": "stdout",
          "text": [
            "Mounted at /content/drive\n"
          ]
        }
      ],
      "source": [
        "from google.colab import drive\n",
        "drive.mount('/content/drive')"
      ]
    },
    {
      "cell_type": "code",
      "source": [
        "import tensorflow as tf\n",
        "from tensorflow.keras.models import Sequential\n",
        "from tensorflow.keras.layers import Conv2D, MaxPooling2D, Flatten, Dense, Dropout\n",
        "from tensorflow.keras.optimizers import Adam\n",
        "from tensorflow.keras.callbacks import EarlyStopping\n",
        "import matplotlib.pyplot as plt\n",
        "from sklearn.metrics import confusion_matrix, classification_report\n",
        "import seaborn as sns"
      ],
      "metadata": {
        "id": "EEF6GRI0odbB"
      },
      "execution_count": 22,
      "outputs": []
    },
    {
      "cell_type": "code",
      "source": [
        "import pandas as pd\n",
        "import numpy as np\n",
        "import cv2\n",
        "import os"
      ],
      "metadata": {
        "id": "XdKbYzG0j4t4"
      },
      "execution_count": 3,
      "outputs": []
    },
    {
      "cell_type": "code",
      "source": [
        "data_dir = '/content/drive/My Drive/Datasets/chest_xray/'\n",
        "train_dir = os.path.join(data_dir, 'train/')\n",
        "test_dir = os.path.join(data_dir, 'test/')\n",
        "val_dir = os.path.join(data_dir, 'val/')"
      ],
      "metadata": {
        "id": "E2me-pakjl9B"
      },
      "execution_count": 13,
      "outputs": []
    },
    {
      "cell_type": "code",
      "source": [
        "def preprocess_image(image_path):\n",
        "  img = cv2.imread(image_path, cv2.IMREAD_GRAYSCALE)\n",
        "  img = cv2.resize(img, (224, 224))\n",
        "  img = img/255.0\n",
        "  return img\n",
        "\n",
        "def load_data(directory):\n",
        "  images = []\n",
        "  labels = []\n",
        "  classes = ['NORMAL', 'PNEUMONIA']\n",
        "  for label in classes:\n",
        "    class_dir = os.path.join(directory, label)\n",
        "    for img_name in os.listdir(class_dir):\n",
        "      img_path = os.path.join(class_dir, img_name)\n",
        "      img = preprocess_image(img_path)\n",
        "      images.append(img)\n",
        "      labels.append(0 if label == 'NORMAL' else 1)\n",
        "  return np.array(images), np.array(labels)"
      ],
      "metadata": {
        "id": "QP3gXVqlkG5a"
      },
      "execution_count": 17,
      "outputs": []
    },
    {
      "cell_type": "code",
      "source": [
        "train_images, train_labels = load_data(train_dir)\n",
        "print(\"Training data loaded and preprocessed\")"
      ],
      "metadata": {
        "colab": {
          "base_uri": "https://localhost:8080/"
        },
        "id": "wfnFVkuQmT1G",
        "outputId": "ce8ad14c-d29b-40bc-b9e8-8467ea7b62dd"
      },
      "execution_count": 18,
      "outputs": [
        {
          "output_type": "stream",
          "name": "stdout",
          "text": [
            "Training data loaded and preprocessed\n"
          ]
        }
      ]
    },
    {
      "cell_type": "code",
      "source": [
        "val_images, val_labels = load_data(val_dir)\n",
        "print(\"Validation data loaded and preprocessed\")"
      ],
      "metadata": {
        "colab": {
          "base_uri": "https://localhost:8080/"
        },
        "id": "JuYD_sOmncZR",
        "outputId": "9d17e33f-2655-45f6-f606-4d163b8a911d"
      },
      "execution_count": 19,
      "outputs": [
        {
          "output_type": "stream",
          "name": "stdout",
          "text": [
            "Validation data loaded and preprocessed\n"
          ]
        }
      ]
    },
    {
      "cell_type": "code",
      "source": [
        "test_images, test_labels = load_data(test_dir)\n",
        "print(\"Testing data loaded and preprocessed\")"
      ],
      "metadata": {
        "colab": {
          "base_uri": "https://localhost:8080/"
        },
        "id": "KBjhXxgonlqc",
        "outputId": "f465d910-fddb-4428-933c-8c16c57f243f"
      },
      "execution_count": 20,
      "outputs": [
        {
          "output_type": "stream",
          "name": "stdout",
          "text": [
            "Testing data loaded and preprocessed\n"
          ]
        }
      ]
    },
    {
      "cell_type": "code",
      "source": [
        "print(f'Training data shape: {train_images.shape}, {train_labels.shape}')\n",
        "print(f'Validation data shape: {val_images.shape}, {val_labels.shape}')\n",
        "print(f'Testing data shape: {test_images.shape}, {test_labels.shape}')"
      ],
      "metadata": {
        "colab": {
          "base_uri": "https://localhost:8080/"
        },
        "id": "TNsjjxwznri-",
        "outputId": "955917b2-90a3-489f-d3f0-baad6ea8b0a3"
      },
      "execution_count": 21,
      "outputs": [
        {
          "output_type": "stream",
          "name": "stdout",
          "text": [
            "Training data shape: (5216, 224, 224), (5216,)\n",
            "Validation data shape: (16, 224, 224), (16,)\n",
            "Testing data shape: (624, 224, 224), (624,)\n"
          ]
        }
      ]
    },
    {
      "cell_type": "code",
      "source": [
        "from tensorflow.keras.preprocessing.image import ImageDataGenerator\n",
        "\n",
        "datagen = ImageDataGenerator(\n",
        "    rotation_range=20,\n",
        "    width_shift_range=0.2,\n",
        "    height_shift_range=0.2,\n",
        "    zoom_range=0.2,\n",
        "    horizontal_flip=True\n",
        ")\n",
        "\n",
        "train_images_augmented = train_images.reshape(train_images.shape[0], 224, 224, 1)  # Reshape for ImageDataGenerator\n",
        "train_generator = datagen.flow(train_images_augmented, train_labels, batch_size=32)\n"
      ],
      "metadata": {
        "id": "SchJ2e_TptpR"
      },
      "execution_count": 27,
      "outputs": []
    },
    {
      "cell_type": "code",
      "source": [
        "model = Sequential([\n",
        "    Conv2D(32, (3, 3), activation='relu', input_shape=(224, 224, 1)),\n",
        "    MaxPooling2D((2, 2)),\n",
        "    Conv2D(64, (3, 3), activation='relu'),\n",
        "    MaxPooling2D((2, 2)),\n",
        "    Conv2D(128, (3, 3), activation='relu'),\n",
        "    MaxPooling2D((2, 2)),\n",
        "    Conv2D(256, (3, 3), activation='relu'),\n",
        "    MaxPooling2D((2, 2)),\n",
        "    Flatten(),\n",
        "    Dense(256, activation='relu'),\n",
        "    Dropout(0.5),\n",
        "    Dense(1, activation='sigmoid')\n",
        "])\n",
        "\n",
        "model.compile(optimizer=Adam(learning_rate=0.0001),\n",
        "              loss='binary_crossentropy',\n",
        "              metrics=['accuracy'])\n"
      ],
      "metadata": {
        "id": "LBIMJIyuokA4"
      },
      "execution_count": 28,
      "outputs": []
    },
    {
      "cell_type": "code",
      "source": [
        "class_weight = {0: 1., 1: 0.6}\n",
        "early_stopping = EarlyStopping(monitor='val_loss', patience=5, restore_best_weights=True)\n",
        "\n",
        "history = model.fit(train_generator,\n",
        "                    steps_per_epoch=len(train_images) // 32,\n",
        "                    epochs=20,\n",
        "                    validation_data=(val_images.reshape(val_images.shape[0], 224, 224, 1), val_labels),\n",
        "                    class_weight=class_weight,\n",
        "                    callbacks=[early_stopping])\n"
      ],
      "metadata": {
        "colab": {
          "base_uri": "https://localhost:8080/"
        },
        "id": "kVH4JNBtp1un",
        "outputId": "4f3f4b41-d635-4635-c257-195f1eb3d554"
      },
      "execution_count": 32,
      "outputs": [
        {
          "output_type": "stream",
          "name": "stdout",
          "text": [
            "Epoch 1/20\n",
            "163/163 [==============================] - 24s 147ms/step - loss: 0.1860 - accuracy: 0.8936 - val_loss: 0.7131 - val_accuracy: 0.6875\n",
            "Epoch 2/20\n",
            "163/163 [==============================] - 25s 155ms/step - loss: 0.1813 - accuracy: 0.8995 - val_loss: 0.5475 - val_accuracy: 0.7500\n",
            "Epoch 3/20\n",
            "163/163 [==============================] - 23s 140ms/step - loss: 0.1866 - accuracy: 0.8986 - val_loss: 0.4463 - val_accuracy: 0.7500\n",
            "Epoch 4/20\n",
            "163/163 [==============================] - 26s 157ms/step - loss: 0.1732 - accuracy: 0.9080 - val_loss: 0.7948 - val_accuracy: 0.6875\n",
            "Epoch 5/20\n",
            "163/163 [==============================] - 24s 146ms/step - loss: 0.1808 - accuracy: 0.9059 - val_loss: 0.4309 - val_accuracy: 0.7500\n",
            "Epoch 6/20\n",
            "163/163 [==============================] - 24s 149ms/step - loss: 0.1728 - accuracy: 0.9091 - val_loss: 0.6472 - val_accuracy: 0.7500\n",
            "Epoch 7/20\n",
            "163/163 [==============================] - 25s 152ms/step - loss: 0.1671 - accuracy: 0.9086 - val_loss: 0.8644 - val_accuracy: 0.5625\n",
            "Epoch 8/20\n",
            "163/163 [==============================] - 25s 156ms/step - loss: 0.1624 - accuracy: 0.9105 - val_loss: 0.7343 - val_accuracy: 0.6875\n",
            "Epoch 9/20\n",
            "163/163 [==============================] - 28s 170ms/step - loss: 0.1673 - accuracy: 0.9112 - val_loss: 0.8424 - val_accuracy: 0.6250\n",
            "Epoch 10/20\n",
            "163/163 [==============================] - 23s 142ms/step - loss: 0.1609 - accuracy: 0.9105 - val_loss: 0.4886 - val_accuracy: 0.8125\n"
          ]
        }
      ]
    },
    {
      "cell_type": "code",
      "source": [
        "test_loss, test_accuracy = model.evaluate(test_images.reshape(test_images.shape[0], 224, 224, 1), test_labels)\n",
        "print(f'Test accuracy: {test_accuracy:.4f}')\n",
        "\n",
        "test_predictions = model.predict(test_images.reshape(test_images.shape[0], 224, 224, 1))\n",
        "test_predictions = (test_predictions > 0.5).astype(int).flatten()\n",
        "\n",
        "conf_matrix = confusion_matrix(test_labels, test_predictions)\n",
        "sns.heatmap(conf_matrix, annot=True, fmt='d', cmap='Blues', xticklabels=['NORMAL', 'PNEUMONIA'], yticklabels=['NORMAL', 'PNEUMONIA'])\n",
        "plt.xlabel('Predicted')\n",
        "plt.ylabel('Actual')\n",
        "plt.title('Confusion Matrix')\n",
        "plt.show()\n",
        "\n",
        "class_report = classification_report(test_labels, test_predictions, target_names=['NORMAL', 'PNEUMONIA'])\n",
        "print(class_report)\n"
      ],
      "metadata": {
        "colab": {
          "base_uri": "https://localhost:8080/",
          "height": 696
        },
        "id": "-7GnG42FpXrg",
        "outputId": "63162790-0a18-41aa-f452-7fbc8c7fe432"
      },
      "execution_count": 34,
      "outputs": [
        {
          "output_type": "stream",
          "name": "stdout",
          "text": [
            "20/20 [==============================] - 0s 17ms/step - loss: 0.3024 - accuracy: 0.8894\n",
            "Test accuracy: 0.8894\n",
            "20/20 [==============================] - 0s 12ms/step\n"
          ]
        },
        {
          "output_type": "display_data",
          "data": {
            "text/plain": [
              "<Figure size 640x480 with 2 Axes>"
            ],
            "image/png": "[encoded data removed]"
          },
          "metadata": {}
        },
        {
          "output_type": "stream",
          "name": "stdout",
          "text": [
            "              precision    recall  f1-score   support\n",
            "\n",
            "      NORMAL       0.81      0.93      0.86       234\n",
            "   PNEUMONIA       0.95      0.87      0.91       390\n",
            "\n",
            "    accuracy                           0.89       624\n",
            "   macro avg       0.88      0.90      0.89       624\n",
            "weighted avg       0.90      0.89      0.89       624\n",
            "\n"
          ]
        }
      ]
    },
    {
      "cell_type": "code",
      "source": [
        "model.save('/content/drive/My Drive/PneumoniaDetectionProject/model/pneumonia_detection_model.h5')\n",
        "print(\"Model saved successfully.\")"
      ],
      "metadata": {
        "colab": {
          "base_uri": "https://localhost:8080/"
        },
        "id": "O-3EsHk5t_gU",
        "outputId": "90460415-1a7a-431a-b451-abebc08d4130"
      },
      "execution_count": 35,
      "outputs": [
        {
          "output_type": "stream",
          "name": "stderr",
          "text": [
            "/usr/local/lib/python3.10/dist-packages/keras/src/engine/training.py:3103: UserWarning: You are saving your model as an HDF5 file via `model.save()`. This file format is considered legacy. We recommend using instead the native Keras format, e.g. `model.save('my_model.keras')`.\n",
            "  saving_api.save_model(\n"
          ]
        },
        {
          "output_type": "stream",
          "name": "stdout",
          "text": [
            "Model saved successfully.\n"
          ]
        }
      ]
    },
    {
      "cell_type": "code",
      "source": [
        "model.summary()"
      ],
      "metadata": {
        "colab": {
          "base_uri": "https://localhost:8080/"
        },
        "id": "na7fwqDOuI7Y",
        "outputId": "e9127e53-e8e3-4edc-ba1d-12b6ab6a2ada"
      },
      "execution_count": 36,
      "outputs": [
        {
          "output_type": "stream",
          "name": "stdout",
          "text": [
            "Model: \"sequential_1\"\n",
            "_________________________________________________________________\n",
            " Layer (type)                Output Shape              Param #   \n",
            "=================================================================\n",
            " conv2d_3 (Conv2D)           (None, 222, 222, 32)      320       \n",
            "                                                                 \n",
            " max_pooling2d_3 (MaxPoolin  (None, 111, 111, 32)      0         \n",
            " g2D)                                                            \n",
            "                                                                 \n",
            " conv2d_4 (Conv2D)           (None, 109, 109, 64)      18496     \n",
            "                                                                 \n",
            " max_pooling2d_4 (MaxPoolin  (None, 54, 54, 64)        0         \n",
            " g2D)                                                            \n",
            "                                                                 \n",
            " conv2d_5 (Conv2D)           (None, 52, 52, 128)       73856     \n",
            "                                                                 \n",
            " max_pooling2d_5 (MaxPoolin  (None, 26, 26, 128)       0         \n",
            " g2D)                                                            \n",
            "                                                                 \n",
            " conv2d_6 (Conv2D)           (None, 24, 24, 256)       295168    \n",
            "                                                                 \n",
            " max_pooling2d_6 (MaxPoolin  (None, 12, 12, 256)       0         \n",
            " g2D)                                                            \n",
            "                                                                 \n",
            " flatten_1 (Flatten)         (None, 36864)             0         \n",
            "                                                                 \n",
            " dense_2 (Dense)             (None, 256)               9437440   \n",
            "                                                                 \n",
            " dropout_1 (Dropout)         (None, 256)               0         \n",
            "                                                                 \n",
            " dense_3 (Dense)             (None, 1)                 257       \n",
            "                                                                 \n",
            "=================================================================\n",
            "Total params: 9825537 (37.48 MB)\n",
            "Trainable params: 9825537 (37.48 MB)\n",
            "Non-trainable params: 0 (0.00 Byte)\n",
            "_________________________________________________________________\n"
          ]
        }
      ]
    }
  ]
}